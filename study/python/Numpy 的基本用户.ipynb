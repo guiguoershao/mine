{
 "cells": [
  {
   "cell_type": "code",
   "execution_count": 1,
   "metadata": {},
   "outputs": [],
   "source": [
    "import numpy as np\n"
   ]
  },
  {
   "cell_type": "markdown",
   "metadata": {},
   "source": [
    "## ndarray"
   ]
  },
  {
   "cell_type": "code",
   "execution_count": 2,
   "metadata": {},
   "outputs": [
    {
     "data": {
      "text/plain": [
       "array([6, 7, 8, 0, 1])"
      ]
     },
     "execution_count": 2,
     "metadata": {},
     "output_type": "execute_result"
    }
   ],
   "source": [
    "# 创建数组 array\n",
    "data1 = [6,7,8,0,1]\n",
    "np.array(data1) # 创建一维数组"
   ]
  },
  {
   "cell_type": "code",
   "execution_count": 3,
   "metadata": {},
   "outputs": [
    {
     "name": "stdout",
     "output_type": "stream",
     "text": [
      "[[1 2 3 4 5]\n",
      " [6 7 8 9 0]]\n"
     ]
    },
    {
     "data": {
      "text/plain": [
       "(2, 5)"
      ]
     },
     "execution_count": 3,
     "metadata": {},
     "output_type": "execute_result"
    }
   ],
   "source": [
    "# 创建多维数组\n",
    "data2 = [[1,2,3,4,5], [6,7,8,9,0]]\n",
    "arr1 = np.array(data2)\n",
    "print(arr1)\n",
    "\n",
    "# dtype, 数据类型\n",
    "arr1.dtype\n",
    "# shape 属性\n",
    "arr1.shape\n"
   ]
  },
  {
   "cell_type": "code",
   "execution_count": 4,
   "metadata": {},
   "outputs": [
    {
     "name": "stdout",
     "output_type": "stream",
     "text": [
      "[[1 2 3 4 5]\n",
      " [6 7 8 9 0]]\n",
      "int64\n"
     ]
    }
   ],
   "source": [
    "arr2 = np.array(data2, dtype=np.int64)\n",
    "print(arr2)\n",
    "print(arr2.dtype)"
   ]
  },
  {
   "cell_type": "code",
   "execution_count": 5,
   "metadata": {},
   "outputs": [
    {
     "name": "stdout",
     "output_type": "stream",
     "text": [
      "[6.  7.5 8.  5.  0.  1. ]\n",
      "float64\n"
     ]
    }
   ],
   "source": [
    "data3 = [6,7.5,8,5,0,1]\n",
    "arr3 = np.array(data3)\n",
    "print(arr3)\n",
    "print(arr3.dtype)"
   ]
  },
  {
   "cell_type": "code",
   "execution_count": 6,
   "metadata": {},
   "outputs": [
    {
     "data": {
      "text/plain": [
       "array([6, 7, 8, 5, 0, 1])"
      ]
     },
     "execution_count": 6,
     "metadata": {},
     "output_type": "execute_result"
    }
   ],
   "source": [
    "# astype 类型转换\n",
    "arr3.astype(np.int64)"
   ]
  },
  {
   "cell_type": "code",
   "execution_count": 7,
   "metadata": {},
   "outputs": [
    {
     "data": {
      "text/plain": [
       "array([1., 1., 1., 1., 1., 1., 1., 1., 1., 1.])"
      ]
     },
     "execution_count": 7,
     "metadata": {},
     "output_type": "execute_result"
    }
   ],
   "source": [
    "# ones \n",
    "np.ones(10)"
   ]
  },
  {
   "cell_type": "code",
   "execution_count": 8,
   "metadata": {},
   "outputs": [
    {
     "data": {
      "text/plain": [
       "array([0., 0., 0., 0., 0., 0., 0., 0., 0., 0.])"
      ]
     },
     "execution_count": 8,
     "metadata": {},
     "output_type": "execute_result"
    }
   ],
   "source": [
    "# zeros\n",
    "np.zeros(10)"
   ]
  },
  {
   "cell_type": "code",
   "execution_count": 9,
   "metadata": {},
   "outputs": [
    {
     "data": {
      "text/plain": [
       "array([[0., 0., 0., 0., 0., 0.],\n",
       "       [0., 0., 0., 0., 0., 0.],\n",
       "       [0., 0., 0., 0., 0., 0.]])"
      ]
     },
     "execution_count": 9,
     "metadata": {},
     "output_type": "execute_result"
    }
   ],
   "source": [
    "np.zeros((3,6))"
   ]
  },
  {
   "cell_type": "code",
   "execution_count": 10,
   "metadata": {},
   "outputs": [
    {
     "name": "stdout",
     "output_type": "stream",
     "text": [
      "[ 1  4  9 16]\n"
     ]
    }
   ],
   "source": [
    "# 数组和标量之间的运算\n",
    "nd = np.array([1,2,3,4])\n",
    "print(nd*nd)"
   ]
  },
  {
   "cell_type": "markdown",
   "metadata": {},
   "source": [
    "## 基本的索引和切片"
   ]
  },
  {
   "cell_type": "code",
   "execution_count": 11,
   "metadata": {},
   "outputs": [
    {
     "data": {
      "text/plain": [
       "array([0, 1, 2, 3, 4, 5, 6, 7, 8, 9])"
      ]
     },
     "execution_count": 11,
     "metadata": {},
     "output_type": "execute_result"
    }
   ],
   "source": [
    "# arange range函数的数组版\n",
    "np.arange(10)"
   ]
  },
  {
   "cell_type": "code",
   "execution_count": 12,
   "metadata": {},
   "outputs": [
    {
     "name": "stdout",
     "output_type": "stream",
     "text": [
      "[ 1  3  5  7  9 11 13 15 17 19]\n"
     ]
    }
   ],
   "source": [
    "nd1 = np.arange(1, 20, 2)\n",
    "print(nd1)"
   ]
  },
  {
   "cell_type": "code",
   "execution_count": 13,
   "metadata": {},
   "outputs": [
    {
     "data": {
      "text/plain": [
       "11"
      ]
     },
     "execution_count": 13,
     "metadata": {},
     "output_type": "execute_result"
    }
   ],
   "source": [
    "nd1[5]"
   ]
  },
  {
   "cell_type": "code",
   "execution_count": 14,
   "metadata": {},
   "outputs": [
    {
     "name": "stdout",
     "output_type": "stream",
     "text": [
      "[ 1  3 10 10  9 11 13 15 17 19]\n"
     ]
    }
   ],
   "source": [
    "nd1[2:4] = 10\n",
    "print(nd1)"
   ]
  },
  {
   "cell_type": "code",
   "execution_count": 15,
   "metadata": {},
   "outputs": [
    {
     "name": "stdout",
     "output_type": "stream",
     "text": [
      "[[1 2 3 4]\n",
      " [5 6 7 8]]\n"
     ]
    }
   ],
   "source": [
    "# 多维数组\n",
    "data2 = [[1,2,3,4], [5,6,7,8]]\n",
    "nd = np.array(data2)\n",
    "print(nd)"
   ]
  },
  {
   "cell_type": "code",
   "execution_count": 16,
   "metadata": {},
   "outputs": [
    {
     "data": {
      "text/plain": [
       "4"
      ]
     },
     "execution_count": 16,
     "metadata": {},
     "output_type": "execute_result"
    }
   ],
   "source": [
    "nd[0,3]"
   ]
  },
  {
   "cell_type": "markdown",
   "metadata": {},
   "source": [
    "## 花式索引"
   ]
  },
  {
   "cell_type": "code",
   "execution_count": 17,
   "metadata": {},
   "outputs": [
    {
     "name": "stdout",
     "output_type": "stream",
     "text": [
      "[ 0  1  2  3  4  5  6  7  8  9 10 11 12 13 14 15 16 17 18 19 20 21 22 23\n",
      " 24 25 26 27 28 29 30 31]\n",
      "[[ 0  1  2  3]\n",
      " [ 4  5  6  7]\n",
      " [ 8  9 10 11]\n",
      " [12 13 14 15]\n",
      " [16 17 18 19]\n",
      " [20 21 22 23]\n",
      " [24 25 26 27]\n",
      " [28 29 30 31]]\n"
     ]
    }
   ],
   "source": [
    "nd = np.arange(32)\n",
    "print(nd)\n",
    "\n",
    "# reshape\n",
    "nd1 = np.reshape(nd, (8, 4))\n",
    "print(nd1)"
   ]
  },
  {
   "cell_type": "markdown",
   "metadata": {},
   "source": [
    "## 通用函数 ufunc"
   ]
  },
  {
   "cell_type": "code",
   "execution_count": 22,
   "metadata": {},
   "outputs": [
    {
     "name": "stdout",
     "output_type": "stream",
     "text": [
      "[0 1 2 3 4 5 6 7 8 9]\n",
      "[0 1 2]\n",
      "[3 1 4]\n"
     ]
    },
    {
     "data": {
      "text/plain": [
       "array([3, 2, 6])"
      ]
     },
     "execution_count": 22,
     "metadata": {},
     "output_type": "execute_result"
    }
   ],
   "source": [
    "arr=np.arange(10)\n",
    "print(arr)\n",
    "np.sqrt(arr)\n",
    "B=np.arange(3)\n",
    "print(B)\n",
    "\n",
    "C=np.array([3,1,4])\n",
    "print(C)\n",
    "\n",
    "np.add(B,C)"
   ]
  },
  {
   "cell_type": "markdown",
   "metadata": {},
   "source": [
    "## 常用的数学统计方法"
   ]
  },
  {
   "cell_type": "code",
   "execution_count": 33,
   "metadata": {},
   "outputs": [
    {
     "name": "stdout",
     "output_type": "stream",
     "text": [
      "[ 0.31518444 -1.09383632  0.61804404 -0.03358234 -1.41998445 -1.48399797\n",
      "  0.31159322  0.54771241 -0.15542433]\n",
      "-1.4839979718917757\n",
      "0.6180440419744493\n",
      "-0.2660323670892673\n",
      "[-1.48399797 -1.41998445 -1.09383632 -0.15542433 -0.03358234  0.31159322\n",
      "  0.31518444  0.54771241  0.61804404]\n",
      "[[-0.60551478 -0.01842496 -2.11460069]\n",
      " [-1.04547147  0.09355893 -1.11196529]\n",
      " [ 1.63364505 -0.40187847 -0.52676532]\n",
      " [-0.24116654  0.49157713  0.05839818]\n",
      " [-0.09055112  0.82050305 -0.03593512]]\n"
     ]
    }
   ],
   "source": [
    "arr=np.random.randn(9)\n",
    "print(arr)\n",
    "\n",
    "print(arr.min())\n",
    "\n",
    "print(arr.max())\n",
    "\n",
    "print(arr.mean())\n",
    "\n",
    "arr.sort()\n",
    "print(arr)\n",
    "\n"
   ]
  },
  {
   "cell_type": "code",
   "execution_count": 39,
   "metadata": {},
   "outputs": [
    {
     "name": "stdout",
     "output_type": "stream",
     "text": [
      "[[ 2.20394996  1.11883296  1.02030788]\n",
      " [-0.29088146  0.45055841 -0.03205847]\n",
      " [ 0.78807934  1.83152248  1.1874307 ]\n",
      " [ 1.15687926 -0.23230042  0.60272109]\n",
      " [-1.2443073   2.23350301  0.96423264]]\n",
      "-1.2443073045997712\n",
      "2.233503008569318\n",
      "[[-1.2443073  -0.23230042 -0.03205847]\n",
      " [-0.29088146  0.45055841  0.60272109]\n",
      " [ 0.78807934  1.11883296  0.96423264]\n",
      " [ 1.15687926  1.83152248  1.02030788]\n",
      " [ 2.20394996  2.23350301  1.1874307 ]]\n",
      "[[-1.2443073  -0.23230042 -0.03205847]\n",
      " [-0.29088146  0.45055841  0.60272109]\n",
      " [ 0.78807934  0.96423264  1.11883296]\n",
      " [ 1.02030788  1.15687926  1.83152248]\n",
      " [ 1.1874307   2.20394996  2.23350301]]\n"
     ]
    }
   ],
   "source": [
    "arr1 = np.random.randn(5,3)\n",
    "print(arr1)\n",
    "\n",
    "print(arr1.min())\n",
    "print(arr1.max())\n",
    "\n",
    "arr1.sort(axis=0)\n",
    "print(arr1)\n",
    "arr1.sort()\n",
    "print(arr1)\n"
   ]
  },
  {
   "cell_type": "markdown",
   "metadata": {},
   "source": [
    "##  矩阵乘法 求逆及随机数的生成"
   ]
  },
  {
   "cell_type": "code",
   "execution_count": 41,
   "metadata": {},
   "outputs": [
    {
     "name": "stdout",
     "output_type": "stream",
     "text": [
      "[[1 3 4]\n",
      " [4 5 6]]\n",
      "[[ 6 23]\n",
      " [-1  7]\n",
      " [ 8  9]]\n"
     ]
    },
    {
     "data": {
      "text/plain": [
       "array([[ 35,  80],\n",
       "       [ 67, 181]])"
      ]
     },
     "execution_count": 41,
     "metadata": {},
     "output_type": "execute_result"
    }
   ],
   "source": [
    "x = np.array([[1,3,4], [4,5,6]])\n",
    "print(x)\n",
    "\n",
    "y = np.array([[6,23], [-1, 7], [8,9]])\n",
    "print(y)\n",
    "\n",
    "x.dot(y)"
   ]
  },
  {
   "cell_type": "code",
   "execution_count": 43,
   "metadata": {},
   "outputs": [
    {
     "name": "stdout",
     "output_type": "stream",
     "text": [
      "[[4 2]\n",
      " [3 1]]\n"
     ]
    },
    {
     "data": {
      "text/plain": [
       "array([[-0.5,  1. ],\n",
       "       [ 1.5, -2. ]])"
      ]
     },
     "execution_count": 43,
     "metadata": {},
     "output_type": "execute_result"
    }
   ],
   "source": [
    "from numpy.linalg import inv\n",
    "m=np.array([[4,2], [3,1]])\n",
    "print(m)\n",
    "inv(m)"
   ]
  },
  {
   "cell_type": "code",
   "execution_count": 45,
   "metadata": {},
   "outputs": [
    {
     "name": "stdout",
     "output_type": "stream",
     "text": [
      "[[ 1.18406982 -0.87030408  1.70815714  0.08824941]\n",
      " [-0.6802097   0.6191346   0.84934452 -0.41623142]\n",
      " [-0.66398469  2.0812474   0.19893491  0.39870826]\n",
      " [-1.46238221 -0.56242182 -1.94971067  0.26140242]]\n"
     ]
    }
   ],
   "source": [
    "\n",
    "from numpy import random\n",
    "\n",
    "rArray = random.normal(size=(4,4))\n",
    "print(rArray)"
   ]
  },
  {
   "cell_type": "code",
   "execution_count": null,
   "metadata": {},
   "outputs": [],
   "source": []
  }
 ],
 "metadata": {
  "kernelspec": {
   "display_name": "Python 3",
   "language": "python",
   "name": "python3"
  },
  "language_info": {
   "codemirror_mode": {
    "name": "ipython",
    "version": 3
   },
   "file_extension": ".py",
   "mimetype": "text/x-python",
   "name": "python",
   "nbconvert_exporter": "python",
   "pygments_lexer": "ipython3",
   "version": "3.6.5"
  }
 },
 "nbformat": 4,
 "nbformat_minor": 2
}
