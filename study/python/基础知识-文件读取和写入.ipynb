{
 "cells": [
  {
   "cell_type": "markdown",
   "metadata": {},
   "source": [
    "## python的文件读写"
   ]
  },
  {
   "cell_type": "code",
   "execution_count": 2,
   "metadata": {},
   "outputs": [
    {
     "name": "stdout",
     "output_type": "stream",
     "text": [
      "3.1415926535\n",
      "   8979328346\n",
      "   2643383279\n",
      "\n"
     ]
    }
   ],
   "source": [
    "# open 打开文件\n",
    "file_object = open('data/pi.txt')\n",
    "# read 读取文件\n",
    "contents = file_object.read()\n",
    "print(contents)\n",
    "\n",
    "# close 关闭\n",
    "file_object.close()"
   ]
  },
  {
   "cell_type": "code",
   "execution_count": 5,
   "metadata": {},
   "outputs": [
    {
     "name": "stdout",
     "output_type": "stream",
     "text": [
      "3.1415926535\n",
      "   8979328346\n",
      "   2643383279\n",
      "\n"
     ]
    }
   ],
   "source": [
    "# with open\n",
    "with open('data/pi.txt') as file_object:\n",
    "    contents = file_object.read()\n",
    "    print(contents)"
   ]
  },
  {
   "cell_type": "code",
   "execution_count": 7,
   "metadata": {},
   "outputs": [
    {
     "name": "stdout",
     "output_type": "stream",
     "text": [
      "3.1415926535\n",
      "\n"
     ]
    }
   ],
   "source": [
    "# readline 读取单行\n",
    "file = 'data/pi.txt'\n",
    "with open(file) as file_object:\n",
    "    contents = file_object.readline()\n",
    "    \n",
    "    \n",
    "print(contents)"
   ]
  },
  {
   "cell_type": "code",
   "execution_count": 8,
   "metadata": {},
   "outputs": [
    {
     "name": "stdout",
     "output_type": "stream",
     "text": [
      "['3.1415926535\\n', '   8979328346\\n', '   2643383279\\n']\n"
     ]
    }
   ],
   "source": [
    "# readlines 读取单行\n",
    "file = 'data/pi.txt'\n",
    "with open(file) as file_object:\n",
    "    contents = file_object.readlines()\n",
    "    \n",
    "    \n",
    "print(contents)"
   ]
  },
  {
   "cell_type": "code",
   "execution_count": 11,
   "metadata": {},
   "outputs": [
    {
     "name": "stdout",
     "output_type": "stream",
     "text": [
      "['3.1415926535', '8979328346', '2643383279']\n"
     ]
    }
   ],
   "source": [
    "# strip 去除字符串两端的空格及换行\n",
    "L = []\n",
    "for i in contents :\n",
    "    L.append(i.strip())\n",
    "\n",
    "print(L)"
   ]
  },
  {
   "cell_type": "code",
   "execution_count": 12,
   "metadata": {},
   "outputs": [],
   "source": [
    "# 文件写入\n",
    "\n",
    "file = 'data/write.txt'\n",
    "with open(file, 'w') as file_object:\n",
    "    file_object.write(\"I Love Python\")"
   ]
  },
  {
   "cell_type": "code",
   "execution_count": 15,
   "metadata": {},
   "outputs": [],
   "source": [
    "file = 'data/write1.txt'\n",
    "with open(file, 'w') as file_object:\n",
    "    file_object.write(\"I Love Python\\n\")\n",
    "    file_object.write(\"我爱pyhton!\\n\")"
   ]
  },
  {
   "cell_type": "code",
   "execution_count": 17,
   "metadata": {},
   "outputs": [],
   "source": [
    "# 以追加的方式写入文件\n",
    "file = 'data/write1.txt'\n",
    "with open(file, 'a') as file_object:\n",
    "    file_object.write(\"I Love Python\\n\")\n",
    "    file_object.write(\"我爱pyhton!\\n\")"
   ]
  },
  {
   "cell_type": "code",
   "execution_count": null,
   "metadata": {},
   "outputs": [],
   "source": []
  }
 ],
 "metadata": {
  "kernelspec": {
   "display_name": "Python 3",
   "language": "python",
   "name": "python3"
  },
  "language_info": {
   "codemirror_mode": {
    "name": "ipython",
    "version": 3
   },
   "file_extension": ".py",
   "mimetype": "text/x-python",
   "name": "python",
   "nbconvert_exporter": "python",
   "pygments_lexer": "ipython3",
   "version": "3.6.5"
  }
 },
 "nbformat": 4,
 "nbformat_minor": 2
}
