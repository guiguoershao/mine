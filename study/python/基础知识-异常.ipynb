{
 "cells": [
  {
   "cell_type": "code",
   "execution_count": 1,
   "metadata": {},
   "outputs": [
    {
     "name": "stdout",
     "output_type": "stream",
     "text": [
      "请输入一个数字1\n",
      "1.0\n",
      "2.0\n"
     ]
    }
   ],
   "source": [
    "# 异常\n",
    "var=float(input(\"请输入一个数字\"))\n",
    "print(1/var)\n",
    "print(2/1)"
   ]
  },
  {
   "cell_type": "code",
   "execution_count": 2,
   "metadata": {},
   "outputs": [
    {
     "name": "stdout",
     "output_type": "stream",
     "text": [
      "请输入一个数字2\n",
      "0.5\n",
      "2.0\n"
     ]
    }
   ],
   "source": [
    "# try ... except...\n",
    "\n",
    "try :\n",
    "    var=float(input(\"请输入一个数字\"))\n",
    "    print(1/var)\n",
    "except ZeroDivisionError as e:\n",
    "    print(\"分母不能为0\", e)\n",
    "    \n",
    "print(2/1)"
   ]
  },
  {
   "cell_type": "code",
   "execution_count": 3,
   "metadata": {},
   "outputs": [
    {
     "name": "stdout",
     "output_type": "stream",
     "text": [
      "请输入一个数字4\n",
      "0.25\n",
      "2.0\n"
     ]
    }
   ],
   "source": [
    "# 多个异常\n",
    "try :\n",
    "    var=float(input(\"请输入一个数字\"))\n",
    "    print(1/var)\n",
    "except ZeroDivisionError as e:\n",
    "    print(\"分母不能为0\", e)\n",
    "#except ValueError as e:\n",
    "#    print(\"值错误\", e)\n",
    "except Exception as e:\n",
    "    print(\"值错误\", e)\n",
    "print(2/1)"
   ]
  },
  {
   "cell_type": "code",
   "execution_count": 4,
   "metadata": {},
   "outputs": [
    {
     "name": "stdout",
     "output_type": "stream",
     "text": [
      "请输入一个数字3\n",
      "0.3333333333333333\n",
      "程序执行完毕\n",
      "2.0\n"
     ]
    }
   ],
   "source": [
    "# finally 最终执行的操作\n",
    "try :\n",
    "    var=float(input(\"请输入一个数字\"))\n",
    "    print(1/var)\n",
    "except ZeroDivisionError as e:\n",
    "    print(\"分母不能为0\", e)\n",
    "#except ValueError as e:\n",
    "#    print(\"值错误\", e)\n",
    "except Exception as e:\n",
    "    print(\"值错误\", e)\n",
    "finally:\n",
    "    print(\"程序执行完毕\")\n",
    "print(2/1)"
   ]
  },
  {
   "cell_type": "code",
   "execution_count": 5,
   "metadata": {},
   "outputs": [
    {
     "name": "stdout",
     "output_type": "stream",
     "text": [
      "请输入一个数字1\n",
      "1.0\n",
      "程序执行完毕\n",
      "2.0\n"
     ]
    }
   ],
   "source": [
    "# raise 抛出异常\n",
    "try :\n",
    "    var=float(input(\"请输入一个数字\"))\n",
    "    print(1/var)\n",
    "except ZeroDivisionError as e:\n",
    "    print(\"分母不能为0\", e)\n",
    "#except ValueError as e:\n",
    "#    print(\"值错误\", e)\n",
    "except Exception as e:\n",
    "    print(\"值错误\", e)\n",
    "    #raise\n",
    "finally:\n",
    "    print(\"程序执行完毕\")\n",
    "print(2/1)"
   ]
  },
  {
   "cell_type": "code",
   "execution_count": null,
   "metadata": {},
   "outputs": [],
   "source": []
  }
 ],
 "metadata": {
  "kernelspec": {
   "display_name": "Python 3",
   "language": "python",
   "name": "python3"
  },
  "language_info": {
   "codemirror_mode": {
    "name": "ipython",
    "version": 3
   },
   "file_extension": ".py",
   "mimetype": "text/x-python",
   "name": "python",
   "nbconvert_exporter": "python",
   "pygments_lexer": "ipython3",
   "version": "3.6.5"
  }
 },
 "nbformat": 4,
 "nbformat_minor": 2
}
