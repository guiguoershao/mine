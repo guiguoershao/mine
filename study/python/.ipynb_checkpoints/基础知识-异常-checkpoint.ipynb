{
 "cells": [
  {
   "cell_type": "code",
   "execution_count": 3,
   "metadata": {},
   "outputs": [
    {
     "name": "stdout",
     "output_type": "stream",
     "text": [
      "请输入一个数字0\n"
     ]
    },
    {
     "ename": "ZeroDivisionError",
     "evalue": "float division by zero",
     "output_type": "error",
     "traceback": [
      "\u001b[0;31m---------------------------------------------------------------------------\u001b[0m",
      "\u001b[0;31mZeroDivisionError\u001b[0m                         Traceback (most recent call last)",
      "\u001b[0;32m<ipython-input-3-504d587a531a>\u001b[0m in \u001b[0;36m<module>\u001b[0;34m\u001b[0m\n\u001b[1;32m      1\u001b[0m \u001b[0;31m# 异常\u001b[0m\u001b[0;34m\u001b[0m\u001b[0;34m\u001b[0m\u001b[0m\n\u001b[1;32m      2\u001b[0m \u001b[0mvar\u001b[0m\u001b[0;34m=\u001b[0m\u001b[0mfloat\u001b[0m\u001b[0;34m(\u001b[0m\u001b[0minput\u001b[0m\u001b[0;34m(\u001b[0m\u001b[0;34m\"请输入一个数字\"\u001b[0m\u001b[0;34m)\u001b[0m\u001b[0;34m)\u001b[0m\u001b[0;34m\u001b[0m\u001b[0m\n\u001b[0;32m----> 3\u001b[0;31m \u001b[0mprint\u001b[0m\u001b[0;34m(\u001b[0m\u001b[0;36m1\u001b[0m\u001b[0;34m/\u001b[0m\u001b[0mvar\u001b[0m\u001b[0;34m)\u001b[0m\u001b[0;34m\u001b[0m\u001b[0m\n\u001b[0m\u001b[1;32m      4\u001b[0m \u001b[0mprint\u001b[0m\u001b[0;34m(\u001b[0m\u001b[0;36m2\u001b[0m\u001b[0;34m/\u001b[0m\u001b[0;36m1\u001b[0m\u001b[0;34m)\u001b[0m\u001b[0;34m\u001b[0m\u001b[0m\n",
      "\u001b[0;31mZeroDivisionError\u001b[0m: float division by zero"
     ]
    }
   ],
   "source": [
    "# 异常\n",
    "var=float(input(\"请输入一个数字\"))\n",
    "print(1/var)\n",
    "print(2/1)"
   ]
  },
  {
   "cell_type": "code",
   "execution_count": 5,
   "metadata": {},
   "outputs": [
    {
     "name": "stdout",
     "output_type": "stream",
     "text": [
      "请输入一个数字0\n",
      "分母不能为0 float division by zero\n",
      "2.0\n"
     ]
    }
   ],
   "source": [
    "# try ... except...\n",
    "\n",
    "try :\n",
    "    var=float(input(\"请输入一个数字\"))\n",
    "    print(1/var)\n",
    "except ZeroDivisionError as e:\n",
    "    print(\"分母不能为0\", e)\n",
    "    \n",
    "print(2/1)"
   ]
  },
  {
   "cell_type": "code",
   "execution_count": 8,
   "metadata": {},
   "outputs": [
    {
     "name": "stdout",
     "output_type": "stream",
     "text": [
      "请输入一个数字sdaf\n",
      "值错误 could not convert string to float: 'sdaf'\n",
      "2.0\n"
     ]
    }
   ],
   "source": [
    "# 多个异常\n",
    "try :\n",
    "    var=float(input(\"请输入一个数字\"))\n",
    "    print(1/var)\n",
    "except ZeroDivisionError as e:\n",
    "    print(\"分母不能为0\", e)\n",
    "#except ValueError as e:\n",
    "#    print(\"值错误\", e)\n",
    "except Exception as e:\n",
    "    print(\"值错误\", e)\n",
    "print(2/1)"
   ]
  },
  {
   "cell_type": "code",
   "execution_count": 10,
   "metadata": {},
   "outputs": [
    {
     "name": "stdout",
     "output_type": "stream",
     "text": [
      "请输入一个数字55\n",
      "0.01818181818181818\n",
      "程序执行完毕\n",
      "2.0\n"
     ]
    }
   ],
   "source": [
    "# finally 最终执行的操作\n",
    "try :\n",
    "    var=float(input(\"请输入一个数字\"))\n",
    "    print(1/var)\n",
    "except ZeroDivisionError as e:\n",
    "    print(\"分母不能为0\", e)\n",
    "#except ValueError as e:\n",
    "#    print(\"值错误\", e)\n",
    "except Exception as e:\n",
    "    print(\"值错误\", e)\n",
    "finally:\n",
    "    print(\"程序执行完毕\")\n",
    "print(2/1)"
   ]
  },
  {
   "cell_type": "code",
   "execution_count": 17,
   "metadata": {},
   "outputs": [
    {
     "name": "stdout",
     "output_type": "stream",
     "text": [
      "请输入一个数字sdaf\n",
      "值错误 could not convert string to float: 'sdaf'\n",
      "程序执行完毕\n",
      "2.0\n"
     ]
    }
   ],
   "source": [
    "# raise 抛出异常\n",
    "try :\n",
    "    var=float(input(\"请输入一个数字\"))\n",
    "    print(1/var)\n",
    "except ZeroDivisionError as e:\n",
    "    print(\"分母不能为0\", e)\n",
    "#except ValueError as e:\n",
    "#    print(\"值错误\", e)\n",
    "except Exception as e:\n",
    "    print(\"值错误\", e)\n",
    "    #raise\n",
    "finally:\n",
    "    print(\"程序执行完毕\")\n",
    "print(2/1)"
   ]
  },
  {
   "cell_type": "code",
   "execution_count": null,
   "metadata": {},
   "outputs": [],
   "source": []
  }
 ],
 "metadata": {
  "kernelspec": {
   "display_name": "Python 3",
   "language": "python",
   "name": "python3"
  },
  "language_info": {
   "codemirror_mode": {
    "name": "ipython",
    "version": 3
   },
   "file_extension": ".py",
   "mimetype": "text/x-python",
   "name": "python",
   "nbconvert_exporter": "python",
   "pygments_lexer": "ipython3",
   "version": "3.6.5"
  }
 },
 "nbformat": 4,
 "nbformat_minor": 2
}
