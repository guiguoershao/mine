{
 "cells": [
  {
   "cell_type": "code",
   "execution_count": 1,
   "metadata": {},
   "outputs": [
    {
     "name": "stdout",
     "output_type": "stream",
     "text": [
      "2\n",
      "8\n",
      "4.0\n",
      "4\n",
      "4\n"
     ]
    }
   ],
   "source": [
    "# 内置函数\n",
    "# 求绝对值\n",
    "print(abs(-2))\n",
    "print(max(1,3,4,8,4,2,3,4))\n",
    "\n",
    "# 调用math下的函数\n",
    "import math\n",
    "print(math.sqrt(16))\n",
    "print(math.ceil(3.2))\n",
    "print(math.floor(4.8))"
   ]
  },
  {
   "cell_type": "code",
   "execution_count": 2,
   "metadata": {},
   "outputs": [
    {
     "name": "stdout",
     "output_type": "stream",
     "text": [
      "Hello\n",
      "1\n"
     ]
    }
   ],
   "source": [
    "# 自定义函数\n",
    "# 定义一个无参数函数\n",
    "def sayHello():\n",
    "    print('Hello')\n",
    "sayHello()\n",
    "\n",
    "def myAbs(x):\n",
    "    if (x>=0):\n",
    "        return x;\n",
    "    else:\n",
    "        return -x;\n",
    "\n",
    "print(myAbs(-1))"
   ]
  },
  {
   "cell_type": "code",
   "execution_count": 3,
   "metadata": {},
   "outputs": [
    {
     "name": "stdout",
     "output_type": "stream",
     "text": [
      "25\n",
      "16\n",
      "20\n",
      "6\n"
     ]
    }
   ],
   "source": [
    "# 匿名函数\n",
    "def f1(x):\n",
    "    return x*x\n",
    "\n",
    "print(f1(5))\n",
    "\n",
    "print((lambda x:x*x)(4))\n",
    "\n",
    "def f2(x, y):\n",
    "    return x*y\n",
    "\n",
    "print(f2(5,4))\n",
    "\n",
    "print((lambda x,y: x*y)(2,3))"
   ]
  },
  {
   "cell_type": "code",
   "execution_count": 4,
   "metadata": {},
   "outputs": [
    {
     "name": "stdout",
     "output_type": "stream",
     "text": [
      "120\n"
     ]
    }
   ],
   "source": [
    "# 递归函数\n",
    "# 求阶乘  \n",
    "\n",
    "def fact(n):\n",
    "    if n==1:\n",
    "        return 1;\n",
    "    return n * fact(n-1)\n",
    "\n",
    "print(fact(5))"
   ]
  },
  {
   "cell_type": "code",
   "execution_count": 11,
   "metadata": {},
   "outputs": [
    {
     "name": "stdout",
     "output_type": "stream",
     "text": [
      "3.141592653589793\n",
      "pi值: 3.14\n",
      "大数据技术名词: Hadoop和Spark\n",
      "大数据技术名词: Spark和Hadoop\n",
      "网站名称: Python, 网址: http//:www.baidu.com\n"
     ]
    }
   ],
   "source": [
    "# 格式化输出\n",
    "# pip install numpy\n",
    "import numpy\n",
    "print(numpy.pi)\n",
    "\n",
    "print(\"pi值: {:.2f}\".format(numpy.pi))\n",
    "\n",
    "\n",
    "print(\"大数据技术名词: {}和{}\".format('Hadoop','Spark'))\n",
    "\n",
    "print(\"大数据技术名词: {1}和{0}\".format('Hadoop','Spark'))\n",
    "\n",
    "print(\"网站名称: {name}, 网址: {site}\".format(name=\"Python\", site=\"http//:www.baidu.com\"))"
   ]
  },
  {
   "cell_type": "code",
   "execution_count": null,
   "metadata": {},
   "outputs": [],
   "source": []
  }
 ],
 "metadata": {
  "kernelspec": {
   "display_name": "Python 3",
   "language": "python",
   "name": "python3"
  },
  "language_info": {
   "codemirror_mode": {
    "name": "ipython",
    "version": 3
   },
   "file_extension": ".py",
   "mimetype": "text/x-python",
   "name": "python",
   "nbconvert_exporter": "python",
   "pygments_lexer": "ipython3",
   "version": "3.6.5"
  }
 },
 "nbformat": 4,
 "nbformat_minor": 2
}
