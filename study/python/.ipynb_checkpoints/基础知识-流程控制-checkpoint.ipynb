{
 "cells": [
  {
   "cell_type": "code",
   "execution_count": null,
   "metadata": {},
   "outputs": [],
   "source": [
    "# if 条件判断\n",
    "\n",
    "score = 64\n",
    "if score <60 :\n",
    "    print('不及格')\n",
    "else:\n",
    "    print('及格')\n",
    "    \n",
    "# input 从键盘捕获一个对象,当成字符串类型\n",
    "#var = input(\"请输入一个数字: \")\n",
    "#print(type(var))\n",
    "\n",
    "# 类型转换\n",
    "#int(var) + 1\n",
    "\n",
    "score = float(input('请输入考试成绩:'))\n",
    "if score<60 and score>0:\n",
    "    print('成绩不合格')\n",
    "elif score>60 and score<80:\n",
    "    print('成绩良好')\n",
    "elif score>=80 and score<=100:\n",
    "    print('成绩优秀')\n",
    "else:\n",
    "    print('成绩有误')\n",
    "    \n",
    "\n",
    "# pass 语句 占位符\n",
    "score = 80\n",
    "if score<60:\n",
    "    pass\n",
    "else:\n",
    "    print('及格')"
   ]
  },
  {
   "cell_type": "code",
   "execution_count": null,
   "metadata": {},
   "outputs": [],
   "source": [
    "# For循环\n",
    "L1 = [10,20, 'php', 'python']\n",
    "\n",
    "print(L1[0])\n",
    "for i in L1:\n",
    "    print(i, end=\" \")\n",
    "    \n",
    "# range函数 生成一个序列\n",
    "for i in range(5,10,2):\n",
    "    print(i, end=\" \")\n",
    "    \n",
    "sum = 0\n",
    "for i in range(1, 101):\n",
    "    sum = sum+i\n",
    "print(\"1到100的和:\", sum)"
   ]
  },
  {
   "cell_type": "code",
   "execution_count": null,
   "metadata": {},
   "outputs": [],
   "source": [
    "# while 循环\n",
    "i=1;sum = 0\n",
    "while i<=100:\n",
    "    sum+=i; i+=1\n",
    "    \n",
    "print(\"1到100的和:\", sum)"
   ]
  },
  {
   "cell_type": "code",
   "execution_count": null,
   "metadata": {},
   "outputs": [],
   "source": []
  }
 ],
 "metadata": {
  "kernelspec": {
   "display_name": "Python 3",
   "language": "python",
   "name": "python3"
  },
  "language_info": {
   "codemirror_mode": {
    "name": "ipython",
    "version": 3
   },
   "file_extension": ".py",
   "mimetype": "text/x-python",
   "name": "python",
   "nbconvert_exporter": "python",
   "pygments_lexer": "ipython3",
   "version": "3.6.5"
  }
 },
 "nbformat": 4,
 "nbformat_minor": 2
}
