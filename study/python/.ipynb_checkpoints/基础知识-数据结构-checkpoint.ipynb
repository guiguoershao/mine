{
 "cells": [
  {
   "cell_type": "code",
   "execution_count": 1,
   "metadata": {
    "scrolled": true
   },
   "outputs": [
    {
     "name": "stdout",
     "output_type": "stream",
     "text": [
      "Python\n",
      "6\n",
      "PythonBasic\n",
      "Python Asic\n",
      "python asic\n",
      "PYTHON ASIC\n",
      "\\nhadoop\n"
     ]
    }
   ],
   "source": [
    "# 字符串\n",
    "string1 = \"Python\"\n",
    "print(string1)\n",
    "\n",
    "print(len(string1))\n",
    "\n",
    "string2 = \"Basic\"\n",
    "print(string1 + string2)\n",
    "\n",
    "name = \"Python asic\"\n",
    "print(name.title())\n",
    "\n",
    "print(name.lower())\n",
    "\n",
    "print(name.upper())\n",
    "\n",
    "# \\, 转义符号\n",
    "string = \"\\\\nhadoop\"\n",
    "print(string)"
   ]
  },
  {
   "cell_type": "code",
   "execution_count": 2,
   "metadata": {},
   "outputs": [
    {
     "name": "stdout",
     "output_type": "stream",
     "text": [
      "[10, 20, 'php', 'python']\n",
      "[20, 'php']\n",
      "['php', 'python']\n",
      "python\n",
      "[20, 'php', 'python']\n",
      "[10, 20, 'php', 'python', 'hadoop', 'spark', 50]\n",
      "['hadoop', 'spark', 50, 'docker']\n",
      "[1, 2, 3, 4, 5, 6, 7, 8, 9]\n",
      "[1, 2, 4, 5, 6, 7, 8, 9]\n",
      "[1, 2, 4, 5, 6, 7, 8]\n",
      "[2, 4, 5, 6, 7, 8]\n",
      "[0, 1, 3, 3, 4, 4, 6, 7, 8, 8]\n",
      "[0, 1, 3, 3, 4, 4, 6, 7, 8, 8]\n",
      "[3, 4, 1, 6, 3, 7, 4, 8, 0, 8]\n",
      "[8, 8, 7, 6, 4, 4, 3, 3, 1, 0]\n",
      "2\n"
     ]
    }
   ],
   "source": [
    "# 列表\n",
    "L1 = [10,20,'php','python']\n",
    "print(L1)\n",
    "\n",
    "print(L1[1:3])\n",
    "print(L1[2:])\n",
    "\n",
    "print(L1[-1])\n",
    "print(L1[-3:])\n",
    "\n",
    "L2 = ['hadoop', 'spark', 50]\n",
    "print(L1+L2)\n",
    "\n",
    "L2.append('docker')\n",
    "print(L2)\n",
    "\n",
    "\n",
    "L = [1,2,3,4,5,6,7,8,9]\n",
    "L = []\n",
    "for i in range(1,10):\n",
    "    L.append(i)\n",
    "    \n",
    "print(L)\n",
    "\n",
    "del L[2]\n",
    "print(L)\n",
    "\n",
    "L.pop()\n",
    "print(L)\n",
    "L.pop(0)\n",
    "print(L)\n",
    "\n",
    "\n",
    "\n",
    "L3 = [3,4,1,6,3,7,4,8,0,8]\n",
    "L3.sort()\n",
    "print(L3)\n",
    "L3 = [3,4,1,6,3,7,4,8,0,8]\n",
    "print(sorted(L3))\n",
    "print(L3)\n",
    "\n",
    "L3.sort(reverse=True) # 降序\n",
    "print(L3)\n",
    "\n",
    "print(L3.count(8)) # 统计出现的次数"
   ]
  },
  {
   "cell_type": "code",
   "execution_count": 3,
   "metadata": {},
   "outputs": [
    {
     "name": "stdout",
     "output_type": "stream",
     "text": [
      "(20, 10, 'php', 'python')\n",
      "php\n",
      "(20, 10, 'php', 'python', 50, 'hadoop', 'spark', 'php')\n",
      "8\n"
     ]
    }
   ],
   "source": [
    "# 元组\n",
    "t1 = (20,10,'php','python')\n",
    "print(t1)\n",
    "print(t1[2])\n",
    "t2 = (50,'hadoop','spark', 'php')\n",
    "print(t1+t2)\n",
    "print(len(t1+t2))"
   ]
  },
  {
   "cell_type": "code",
   "execution_count": 4,
   "metadata": {},
   "outputs": [
    {
     "name": "stdout",
     "output_type": "stream",
     "text": [
      "{1, 2, 3, 4, 5}\n",
      "{1, 2, 3, 4, 5, 6}\n",
      "{1, 2, 3, 5, 6}\n"
     ]
    }
   ],
   "source": [
    "# 集合\n",
    "s1 = {1,2,3,4,4,5,2}\n",
    "print(s1)\n",
    "\n",
    "# 增加一个元素\n",
    "s1.add(6)\n",
    "print(s1)\n",
    "\n",
    "s1.remove(4)\n",
    "print(s1)"
   ]
  },
  {
   "cell_type": "code",
   "execution_count": 5,
   "metadata": {},
   "outputs": [
    {
     "name": "stdout",
     "output_type": "stream",
     "text": [
      "{1, 2, 5, 6}\n",
      "{1, 2, 3, 4, 5, 6, 8}\n"
     ]
    }
   ],
   "source": [
    "# 交集和并集\n",
    "\n",
    "s2 = {1,2,4,5,6,8}\n",
    "print(s1&s2) # 交集\n",
    "print(s1|s2) # 并集"
   ]
  },
  {
   "cell_type": "code",
   "execution_count": 6,
   "metadata": {},
   "outputs": [
    {
     "name": "stdout",
     "output_type": "stream",
     "text": [
      "{'n', 'y', 't', 'h', 'p', 'o'}\n"
     ]
    }
   ],
   "source": [
    "# set方法\n",
    "string1 = \"python\"\n",
    "s1 = set(string1)\n",
    "print(s1)"
   ]
  },
  {
   "cell_type": "code",
   "execution_count": 7,
   "metadata": {},
   "outputs": [
    {
     "name": "stdout",
     "output_type": "stream",
     "text": [
      "{'name': '张三', 'age': 30, 'city': 'beijing'}\n",
      "张三\n",
      "30\n",
      "{'name': '张三', 'age': 30, 'city': 'beijing', 'gender': 'male'}\n",
      "{'name': '张三', 'age': 35, 'city': 'beijing', 'gender': 'male'}\n",
      "{'name': '张三', 'age': 35, 'city': 'beijing'}\n"
     ]
    }
   ],
   "source": [
    "# 字典\n",
    "dict1 = {'name': '张三', 'age': 30, 'city': 'beijing'}\n",
    "print(dict1)\n",
    "print(dict1['name'])\n",
    "print(dict1.get('age'))\n",
    "dict1['gender']='male'\n",
    "print(dict1)\n",
    "dict1['age'] = 35\n",
    "print(dict1)\n",
    "del dict1['gender']\n",
    "print(dict1)"
   ]
  },
  {
   "cell_type": "code",
   "execution_count": 8,
   "metadata": {},
   "outputs": [
    {
     "name": "stdout",
     "output_type": "stream",
     "text": [
      "name: 张三\n",
      "age: 35\n",
      "city: beijing\n",
      "name age city 张三 35 beijing "
     ]
    }
   ],
   "source": [
    "# items 方法\n",
    "# dict1.items()\n",
    "for key,value in dict1.items():\n",
    "    print(key+\": \",end=\"\")\n",
    "    print(value)\n",
    "for key in dict1.keys():\n",
    "    print(key,end=\" \")\n",
    "for value in dict1.values():\n",
    "    print(value, end=\" \")"
   ]
  },
  {
   "cell_type": "code",
   "execution_count": 16,
   "metadata": {},
   "outputs": [
    {
     "name": "stdout",
     "output_type": "stream",
     "text": [
      "['name', 'age', 'city']\n",
      "0 name\n",
      "1 age\n",
      "2 city\n",
      "[('name', '张三'), ('age', '30'), ('city', 'beijing')]\n",
      "9 8 7 6 5 4 3 2 1 0 "
     ]
    }
   ],
   "source": [
    "# 常用内置序列函数\n",
    "# enumerate zip reversed\n",
    "print(L1)\n",
    "for i,v in enumerate(L1):\n",
    "    print(i,v)\n",
    "    \n",
    "L1 = ['name', 'age', 'city']\n",
    "L2 = ['张三', '30', 'beijing']\n",
    "print(list(zip(L1,L2)))\n",
    "\n",
    "for i in reversed(range(10)):\n",
    "    print(i, end=' ')"
   ]
  },
  {
   "cell_type": "code",
   "execution_count": 20,
   "metadata": {},
   "outputs": [
    {
     "name": "stdout",
     "output_type": "stream",
     "text": [
      "[0, 1, 2, 3, 4]\n",
      "[0, 1, 2, 3, 4]\n",
      "[6, 7, 8, 9]\n",
      "[0, 1, 4, 9, 16, 25, 36, 49, 64, 81]\n"
     ]
    }
   ],
   "source": [
    "# 列表推导式\n",
    "'''\n",
    "    python的特性之一,使我们能够简单的构造一个列表\n",
    "'''\n",
    "L = []\n",
    "for x in range(5):\n",
    "    L.append(x)\n",
    "\n",
    "print(L)\n",
    "\n",
    "L = [x for x in range(5)]\n",
    "print(L)\n",
    "\n",
    "L = [x for x in range(10) if x>5]\n",
    "print(L)\n",
    "\n",
    "L = [x*x for x in range(10)]\n",
    "print(L)"
   ]
  },
  {
   "cell_type": "code",
   "execution_count": null,
   "metadata": {},
   "outputs": [],
   "source": []
  }
 ],
 "metadata": {
  "kernelspec": {
   "display_name": "Python 3",
   "language": "python",
   "name": "python3"
  },
  "language_info": {
   "codemirror_mode": {
    "name": "ipython",
    "version": 3
   },
   "file_extension": ".py",
   "mimetype": "text/x-python",
   "name": "python",
   "nbconvert_exporter": "python",
   "pygments_lexer": "ipython3",
   "version": "3.6.5"
  }
 },
 "nbformat": 4,
 "nbformat_minor": 2
}
