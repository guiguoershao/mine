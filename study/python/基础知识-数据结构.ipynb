{
 "cells": [
  {
   "cell_type": "code",
   "execution_count": 9,
   "metadata": {
    "scrolled": true
   },
   "outputs": [
    {
     "name": "stdout",
     "output_type": "stream",
     "text": [
      "Python\n",
      "6\n",
      "PythonBasic\n",
      "Python Asic\n",
      "python asic\n",
      "PYTHON ASIC\n",
      "\\nhadoop\n"
     ]
    }
   ],
   "source": [
    "# 字符串\n",
    "string1 = \"Python\"\n",
    "print(string1)\n",
    "\n",
    "print(len(string1))\n",
    "\n",
    "string2 = \"Basic\"\n",
    "print(string1 + string2)\n",
    "\n",
    "name = \"Python asic\"\n",
    "print(name.title())\n",
    "\n",
    "print(name.lower())\n",
    "\n",
    "print(name.upper())\n",
    "\n",
    "# \\, 转义符号\n",
    "string = \"\\\\nhadoop\"\n",
    "print(string)"
   ]
  },
  {
   "cell_type": "code",
   "execution_count": 28,
   "metadata": {},
   "outputs": [
    {
     "name": "stdout",
     "output_type": "stream",
     "text": [
      "[10, 20, 'php', 'python']\n",
      "[20, 'php']\n",
      "['php', 'python']\n",
      "python\n",
      "[20, 'php', 'python']\n",
      "[10, 20, 'php', 'python', 'hadoop', 'spark', 50]\n",
      "['hadoop', 'spark', 50, 'docker']\n",
      "[1, 2, 3, 4, 5, 6, 7, 8, 9]\n",
      "[1, 2, 4, 5, 6, 7, 8, 9]\n",
      "[1, 2, 4, 5, 6, 7, 8]\n",
      "[2, 4, 5, 6, 7, 8]\n",
      "[0, 1, 3, 3, 4, 4, 6, 7, 8, 8]\n",
      "[0, 1, 3, 3, 4, 4, 6, 7, 8, 8]\n",
      "[3, 4, 1, 6, 3, 7, 4, 8, 0, 8]\n",
      "[8, 8, 7, 6, 4, 4, 3, 3, 1, 0]\n"
     ]
    }
   ],
   "source": [
    "# 列表\n",
    "L1 = [10,20,'php','python']\n",
    "print(L1)\n",
    "\n",
    "print(L1[1:3])\n",
    "print(L1[2:])\n",
    "\n",
    "print(L1[-1])\n",
    "print(L1[-3:])\n",
    "\n",
    "L2 = ['hadoop', 'spark', 50]\n",
    "print(L1+L2)\n",
    "\n",
    "L2.append('docker')\n",
    "print(L2)\n",
    "\n",
    "\n",
    "L = [1,2,3,4,5,6,7,8,9]\n",
    "L = []\n",
    "for i in range(1,10):\n",
    "    L.append(i)\n",
    "    \n",
    "print(L)\n",
    "\n",
    "del L[2]\n",
    "print(L)\n",
    "\n",
    "L.pop()\n",
    "print(L)\n",
    "L.pop(0)\n",
    "print(L)\n",
    "\n",
    "\n",
    "\n",
    "L3 = [3,4,1,6,3,7,4,8,0,8]\n",
    "L3.sort()\n",
    "print(L3)\n",
    "L3 = [3,4,1,6,3,7,4,8,0,8]\n",
    "print(sorted(L3))\n",
    "print(L3)\n",
    "\n",
    "L3.sort(reverse=True)\n",
    "print(L3)"
   ]
  },
  {
   "cell_type": "code",
   "execution_count": null,
   "metadata": {},
   "outputs": [],
   "source": []
  }
 ],
 "metadata": {
  "kernelspec": {
   "display_name": "Python 3",
   "language": "python",
   "name": "python3"
  },
  "language_info": {
   "codemirror_mode": {
    "name": "ipython",
    "version": 3
   },
   "file_extension": ".py",
   "mimetype": "text/x-python",
   "name": "python",
   "nbconvert_exporter": "python",
   "pygments_lexer": "ipython3",
   "version": "3.6.5"
  }
 },
 "nbformat": 4,
 "nbformat_minor": 2
}
