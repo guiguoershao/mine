{
 "cells": [
  {
   "cell_type": "code",
   "execution_count": 9,
   "metadata": {},
   "outputs": [
    {
     "name": "stdout",
     "output_type": "stream",
     "text": [
      "Python\n",
      "6\n",
      "PythonBasic\n",
      "Python Asic\n",
      "python asic\n",
      "PYTHON ASIC\n",
      "\\nhadoop\n"
     ]
    }
   ],
   "source": [
    "# 字符串\n",
    "string1 = \"Python\"\n",
    "print(string1)\n",
    "\n",
    "print(len(string1))\n",
    "\n",
    "string2 = \"Basic\"\n",
    "print(string1 + string2)\n",
    "\n",
    "name = \"Python asic\"\n",
    "print(name.title())\n",
    "\n",
    "print(name.lower())\n",
    "\n",
    "print(name.upper())\n",
    "\n",
    "# \\, 转义符号\n",
    "string = \"\\\\nhadoop\"\n",
    "print(string)"
   ]
  },
  {
   "cell_type": "code",
   "execution_count": null,
   "metadata": {},
   "outputs": [],
   "source": []
  }
 ],
 "metadata": {
  "kernelspec": {
   "display_name": "Python 3",
   "language": "python",
   "name": "python3"
  },
  "language_info": {
   "codemirror_mode": {
    "name": "ipython",
    "version": 3
   },
   "file_extension": ".py",
   "mimetype": "text/x-python",
   "name": "python",
   "nbconvert_exporter": "python",
   "pygments_lexer": "ipython3",
   "version": "3.6.5"
  }
 },
 "nbformat": 4,
 "nbformat_minor": 2
}
