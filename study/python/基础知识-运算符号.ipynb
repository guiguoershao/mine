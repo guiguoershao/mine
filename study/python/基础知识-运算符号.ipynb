{
 "cells": [
  {
   "cell_type": "code",
   "execution_count": 1,
   "metadata": {},
   "outputs": [
    {
     "name": "stdout",
     "output_type": "stream",
     "text": [
      "Hello World\n"
     ]
    }
   ],
   "source": [
    "print('Hello World')\n"
   ]
  },
  {
   "cell_type": "code",
   "execution_count": 16,
   "metadata": {},
   "outputs": [
    {
     "name": "stdout",
     "output_type": "stream",
     "text": [
      "1\n",
      "2.5\n",
      "25\n",
      "1\n",
      "5\n",
      "3\n"
     ]
    }
   ],
   "source": [
    "# 算数运算符\n",
    "n1=5;n2=2;\n",
    "print(n1%n2)\n",
    "print(n1/n2)\n",
    "# 求冥\n",
    "print(n1**n2)\n",
    "\n",
    "'''\n",
    "问题: 1个三位数,获取它的百位 十位 各位?\n",
    "'''\n",
    "# 153 \n",
    "i = 153\n",
    "j = i//100\n",
    "print(j)\n",
    "print((i-100*j) // 10)\n",
    "print(i%10)\n"
   ]
  },
  {
   "cell_type": "code",
   "execution_count": 22,
   "metadata": {},
   "outputs": [
    {
     "name": "stdout",
     "output_type": "stream",
     "text": [
      "5\n",
      "2\n",
      "False\n",
      "True\n",
      "True\n",
      "7\n",
      "7\n"
     ]
    }
   ],
   "source": [
    "# 比较运算符\n",
    "print(n1)\n",
    "print(n2)\n",
    "print(n1==n2)\n",
    "print(n1!=n2)\n",
    "print(n1>n2)\n",
    "\n",
    "n3 = n1+n2\n",
    "print(n3)\n",
    "\n",
    "n2+=n1\n",
    "print(n2)"
   ]
  },
  {
   "cell_type": "code",
   "execution_count": null,
   "metadata": {},
   "outputs": [],
   "source": []
  },
  {
   "cell_type": "code",
   "execution_count": 28,
   "metadata": {},
   "outputs": [
    {
     "name": "stdout",
     "output_type": "stream",
     "text": [
      "False\n",
      "True\n",
      "False\n"
     ]
    }
   ],
   "source": [
    "# 逻辑运算符 and or not\n",
    "b1=True; b2=False\n",
    "print(b1 and b2) # 且\n",
    "\n",
    "print(b1 or b2) # 或\n",
    "\n",
    "print(not b1)"
   ]
  },
  {
   "cell_type": "code",
   "execution_count": 31,
   "metadata": {},
   "outputs": [
    {
     "name": "stdout",
     "output_type": "stream",
     "text": [
      "True\n",
      "False\n"
     ]
    }
   ],
   "source": [
    "# 成员运算符\n",
    "string = \"Python\"\n",
    "print('y' in string)\n",
    "\n",
    "L=[1,2,3,4,5]\n",
    "print(7 in L)"
   ]
  }
 ],
 "metadata": {
  "kernelspec": {
   "display_name": "Python 3",
   "language": "python",
   "name": "python3"
  },
  "language_info": {
   "codemirror_mode": {
    "name": "ipython",
    "version": 3
   },
   "file_extension": ".py",
   "mimetype": "text/x-python",
   "name": "python",
   "nbconvert_exporter": "python",
   "pygments_lexer": "ipython3",
   "version": "3.6.5"
  }
 },
 "nbformat": 4,
 "nbformat_minor": 2
}
